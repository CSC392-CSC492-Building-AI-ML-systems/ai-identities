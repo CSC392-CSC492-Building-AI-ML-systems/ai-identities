{
  "cells": [
    {
      "cell_type": "markdown",
      "metadata": {
        "id": "cijrh-dkEaVY"
      },
      "source": [
        "# BoolQ Evaluation\n",
        "This notebook pulls a model via Ollama and evaluates it on the BoolQ dataset"
      ]
    },
    {
      "cell_type": "code",
      "execution_count": null,
      "metadata": {
        "colab": {
          "base_uri": "https://localhost:8080/"
        },
        "id": "EyDmngHXEaVZ",
        "outputId": "06e25820-ee1d-441f-895c-503cb53928cd"
      },
      "outputs": [
        {
          "name": "stdout",
          "output_type": "stream",
          "text": [
            "Requirement already satisfied: datasets in /usr/local/lib/python3.11/dist-packages (3.3.1)\n",
            "Requirement already satisfied: requests in /usr/local/lib/python3.11/dist-packages (2.32.3)\n",
            "Requirement already satisfied: tqdm in /usr/local/lib/python3.11/dist-packages (4.67.1)\n",
            "Requirement already satisfied: pandas in /usr/local/lib/python3.11/dist-packages (2.2.2)\n",
            "Requirement already satisfied: scikit-learn in /usr/local/lib/python3.11/dist-packages (1.6.1)\n",
            "Requirement already satisfied: psutil in /usr/local/lib/python3.11/dist-packages (5.9.5)\n",
            "Requirement already satisfied: filelock in /usr/local/lib/python3.11/dist-packages (from datasets) (3.17.0)\n",
            "Requirement already satisfied: numpy>=1.17 in /usr/local/lib/python3.11/dist-packages (from datasets) (1.26.4)\n",
            "Requirement already satisfied: pyarrow>=15.0.0 in /usr/local/lib/python3.11/dist-packages (from datasets) (17.0.0)\n",
            "Requirement already satisfied: dill<0.3.9,>=0.3.0 in /usr/local/lib/python3.11/dist-packages (from datasets) (0.3.8)\n",
            "Requirement already satisfied: xxhash in /usr/local/lib/python3.11/dist-packages (from datasets) (3.5.0)\n",
            "Requirement already satisfied: multiprocess<0.70.17 in /usr/local/lib/python3.11/dist-packages (from datasets) (0.70.16)\n",
            "Requirement already satisfied: fsspec<=2024.12.0,>=2023.1.0 in /usr/local/lib/python3.11/dist-packages (from fsspec[http]<=2024.12.0,>=2023.1.0->datasets) (2024.10.0)\n",
            "Requirement already satisfied: aiohttp in /usr/local/lib/python3.11/dist-packages (from datasets) (3.11.12)\n",
            "Requirement already satisfied: huggingface-hub>=0.24.0 in /usr/local/lib/python3.11/dist-packages (from datasets) (0.28.1)\n",
            "Requirement already satisfied: packaging in /usr/local/lib/python3.11/dist-packages (from datasets) (24.2)\n",
            "Requirement already satisfied: pyyaml>=5.1 in /usr/local/lib/python3.11/dist-packages (from datasets) (6.0.2)\n",
            "Requirement already satisfied: charset-normalizer<4,>=2 in /usr/local/lib/python3.11/dist-packages (from requests) (3.4.1)\n",
            "Requirement already satisfied: idna<4,>=2.5 in /usr/local/lib/python3.11/dist-packages (from requests) (3.10)\n",
            "Requirement already satisfied: urllib3<3,>=1.21.1 in /usr/local/lib/python3.11/dist-packages (from requests) (2.3.0)\n",
            "Requirement already satisfied: certifi>=2017.4.17 in /usr/local/lib/python3.11/dist-packages (from requests) (2025.1.31)\n",
            "Requirement already satisfied: python-dateutil>=2.8.2 in /usr/local/lib/python3.11/dist-packages (from pandas) (2.8.2)\n",
            "Requirement already satisfied: pytz>=2020.1 in /usr/local/lib/python3.11/dist-packages (from pandas) (2025.1)\n",
            "Requirement already satisfied: tzdata>=2022.7 in /usr/local/lib/python3.11/dist-packages (from pandas) (2025.1)\n",
            "Requirement already satisfied: scipy>=1.6.0 in /usr/local/lib/python3.11/dist-packages (from scikit-learn) (1.13.1)\n",
            "Requirement already satisfied: joblib>=1.2.0 in /usr/local/lib/python3.11/dist-packages (from scikit-learn) (1.4.2)\n",
            "Requirement already satisfied: threadpoolctl>=3.1.0 in /usr/local/lib/python3.11/dist-packages (from scikit-learn) (3.5.0)\n",
            "Requirement already satisfied: aiohappyeyeballs>=2.3.0 in /usr/local/lib/python3.11/dist-packages (from aiohttp->datasets) (2.4.6)\n",
            "Requirement already satisfied: aiosignal>=1.1.2 in /usr/local/lib/python3.11/dist-packages (from aiohttp->datasets) (1.3.2)\n",
            "Requirement already satisfied: attrs>=17.3.0 in /usr/local/lib/python3.11/dist-packages (from aiohttp->datasets) (25.1.0)\n",
            "Requirement already satisfied: frozenlist>=1.1.1 in /usr/local/lib/python3.11/dist-packages (from aiohttp->datasets) (1.5.0)\n",
            "Requirement already satisfied: multidict<7.0,>=4.5 in /usr/local/lib/python3.11/dist-packages (from aiohttp->datasets) (6.1.0)\n",
            "Requirement already satisfied: propcache>=0.2.0 in /usr/local/lib/python3.11/dist-packages (from aiohttp->datasets) (0.2.1)\n",
            "Requirement already satisfied: yarl<2.0,>=1.17.0 in /usr/local/lib/python3.11/dist-packages (from aiohttp->datasets) (1.18.3)\n",
            "Requirement already satisfied: typing-extensions>=3.7.4.3 in /usr/local/lib/python3.11/dist-packages (from huggingface-hub>=0.24.0->datasets) (4.12.2)\n",
            "Requirement already satisfied: six>=1.5 in /usr/local/lib/python3.11/dist-packages (from python-dateutil>=2.8.2->pandas) (1.17.0)\n",
            "Reading package lists... Done\n",
            "Building dependency tree... Done\n",
            "Reading state information... Done\n",
            "lshw is already the newest version (02.19.git.2021.06.19.996aaad9c7-2build1).\n",
            "0 upgraded, 0 newly installed, 0 to remove and 20 not upgraded.\n",
            ">>> Cleaning up old version at /usr/local/lib/ollama\n",
            ">>> Installing ollama to /usr/local\n",
            ">>> Downloading Linux amd64 bundle\n",
            "############################################################################################# 100.0%\n",
            ">>> Adding ollama user to video group...\n",
            ">>> Adding current user to ollama group...\n",
            ">>> Creating ollama systemd service...\n",
            "\u001b[1m\u001b[31mWARNING:\u001b[m systemd is not running\n",
            ">>> NVIDIA GPU installed.\n",
            ">>> The Ollama API is now available at 127.0.0.1:11434.\n",
            ">>> Install complete. Run \"ollama\" from the command line.\n"
          ]
        }
      ],
      "source": [
        "# Install required packages\n",
        "!pip install datasets requests tqdm pandas scikit-learn psutil\n",
        "!apt install lshw\n",
        "!curl -fsSL https://ollama.com/install.sh | sh"
      ]
    },
    {
      "cell_type": "code",
      "execution_count": null,
      "metadata": {
        "id": "i1tDtyvoEaVa"
      },
      "outputs": [],
      "source": [
        "import os\n",
        "import threading\n",
        "import json\n",
        "import time\n",
        "import psutil\n",
        "import requests\n",
        "import subprocess\n",
        "import pandas as pd\n",
        "from tqdm import tqdm\n",
        "from datasets import load_dataset\n",
        "from sklearn.metrics import accuracy_score, classification_report"
      ]
    },
    {
      "cell_type": "code",
      "execution_count": null,
      "metadata": {
        "id": "VLW11DvfEaVb"
      },
      "outputs": [],
      "source": [
        "# Set up ollama server\n",
        "os.environ['OLLAMA_NUM_PARALLEL'] = '16'\n",
        "os.environ['OLLAMA_FLASH_ATTENTION'] = '1'\n",
        "\n",
        "def is_server_running():\n",
        "    try:\n",
        "        requests.get('http://localhost:11434/api/tags')\n",
        "        return True\n",
        "    except requests.exceptions.ConnectionError:\n",
        "        return False\n",
        "\n",
        "def wait_for_server(timeout=30):\n",
        "    start_time = time.time()\n",
        "    while time.time() - start_time < timeout:\n",
        "        if is_server_running():\n",
        "            return True\n",
        "        time.sleep(1)\n",
        "    return False\n",
        "\n",
        "# Start server if not already running\n",
        "if not is_server_running():\n",
        "    server = threading.Thread(\n",
        "        target=lambda: subprocess.run(['ollama', 'serve'], check=True),\n",
        "        daemon=True\n",
        "    )\n",
        "    server.start()\n",
        "\n",
        "    if not wait_for_server():\n",
        "        raise RuntimeError(\"Ollama server failed to start within timeout\")\n",
        "else:\n",
        "    print(\"Ollama server is already running\")"
      ]
    },
    {
      "cell_type": "code",
      "execution_count": null,
      "metadata": {
        "colab": {
          "base_uri": "https://localhost:8080/"
        },
        "id": "C7umbOjGEaVc",
        "outputId": "8426eb06-c20f-4e2b-e805-1558f0837c1c"
      },
      "outputs": [
        {
          "name": "stdout",
          "output_type": "stream",
          "text": [
            "\u001b[?25lpulling manifest ⠋ \u001b[?25h\u001b[?25l\u001b[2K\u001b[1Gpulling manifest ⠙ \u001b[?25h\u001b[?25l\u001b[2K\u001b[1Gpulling manifest ⠹ \u001b[?25h\u001b[?25l\u001b[2K\u001b[1Gpulling manifest ⠸ \u001b[?25h\u001b[?25l\u001b[2K\u001b[1Gpulling manifest ⠼ \u001b[?25h\u001b[?25l\u001b[2K\u001b[1Gpulling manifest ⠴ \u001b[?25h\u001b[?25l\u001b[2K\u001b[1Gpulling manifest ⠦ \u001b[?25h\u001b[?25l\u001b[2K\u001b[1Gpulling manifest ⠧ \u001b[?25h\u001b[?25l\u001b[2K\u001b[1Gpulling manifest ⠇ \u001b[?25h\u001b[?25l\u001b[2K\u001b[1Gpulling manifest ⠏ \u001b[?25h\u001b[?25l\u001b[2K\u001b[1Gpulling manifest ⠋ \u001b[?25h\u001b[?25l\u001b[2K\u001b[1Gpulling manifest ⠙ \u001b[?25h\u001b[?25l\u001b[2K\u001b[1Gpulling manifest ⠹ \u001b[?25h\u001b[?25l\u001b[2K\u001b[1Gpulling manifest ⠸ \u001b[?25h\u001b[?25l\u001b[2K\u001b[1Gpulling manifest ⠼ \u001b[?25h\u001b[?25l\u001b[2K\u001b[1Gpulling manifest \n",
            "pulling f535f83ec568... 100% ▕▏ 270 MB                         \n",
            "pulling fbacade46b4d... 100% ▕▏   68 B                         \n",
            "pulling d502d55c1d60... 100% ▕▏  675 B                         \n",
            "pulling 58d1e17ffe51... 100% ▕▏  11 KB                         \n",
            "pulling f02dd72bb242... 100% ▕▏   59 B                         \n",
            "pulling b0f58c4c1a3c... 100% ▕▏  561 B                         \n",
            "verifying sha256 digest \n",
            "writing manifest \n",
            "success \u001b[?25h\n"
          ]
        }
      ],
      "source": [
        "# Pull model using Ollama\n",
        "!ollama pull smollm2:135m"
      ]
    },
    {
      "cell_type": "code",
      "execution_count": null,
      "metadata": {
        "id": "6Dx6n8Q-EaVc"
      },
      "outputs": [],
      "source": [
        "def query_ollama(prompt, model):\n",
        "    \"\"\"\n",
        "    Send a query to the Ollama API and get the response\n",
        "    \"\"\"\n",
        "    try:\n",
        "        response = requests.post('http://localhost:11434/api/generate',\n",
        "                               json={\n",
        "                                   'model': model,\n",
        "                                   'prompt': prompt,\n",
        "                                   'stream': False\n",
        "                               })\n",
        "        response.raise_for_status()\n",
        "        return response.json()['response']\n",
        "    except Exception as e:\n",
        "        raise RuntimeError(f\"Error querying Ollama: {e}\")\n",
        "\n",
        "def format_prompt(question, passage):\n",
        "    \"\"\"\n",
        "    Format the prompt for the model\n",
        "    \"\"\"\n",
        "    return f\"\"\"Given the following passage and question, answer with only 'yes' or 'no'.\n",
        "\n",
        "Passage: {passage}\n",
        "\n",
        "Question: {question}\n",
        "\n",
        "Answer:\"\"\"\n",
        "\n",
        "def clean_response(response):\n",
        "    \"\"\"\n",
        "    Clean the model's response to get just yes/no\n",
        "    \"\"\"\n",
        "    response = response.lower().strip()\n",
        "    if 'yes' in response:\n",
        "        return 'yes'\n",
        "    elif 'no' in response:\n",
        "        return 'no'\n",
        "    else:\n",
        "        return 'invalid'"
      ]
    },
    {
      "cell_type": "code",
      "execution_count": null,
      "metadata": {
        "colab": {
          "base_uri": "https://localhost:8080/"
        },
        "id": "NyTP5drgEaVd",
        "outputId": "89a13053-4ecc-4a80-db80-923f0ea7a259"
      },
      "outputs": [
        {
          "name": "stdout",
          "output_type": "stream",
          "text": [
            "Loading BoolQ dataset...\n"
          ]
        },
        {
          "name": "stderr",
          "output_type": "stream",
          "text": [
            "/usr/local/lib/python3.11/dist-packages/huggingface_hub/utils/_auth.py:94: UserWarning: \n",
            "The secret `HF_TOKEN` does not exist in your Colab secrets.\n",
            "To authenticate with the Hugging Face Hub, create a token in your settings tab (https://huggingface.co/settings/tokens), set it as secret in your Google Colab and restart your session.\n",
            "You will be able to reuse this secret in all of your notebooks.\n",
            "Please note that authentication is recommended but still optional to access public models or datasets.\n",
            "  warnings.warn(\n"
          ]
        },
        {
          "name": "stdout",
          "output_type": "stream",
          "text": [
            "Loaded 3270 examples\n"
          ]
        }
      ],
      "source": [
        "# Load BoolQ dataset\n",
        "print(\"Loading BoolQ dataset...\")\n",
        "dataset = load_dataset(\"boolq\", split=\"validation\")\n",
        "print(f\"Loaded {len(dataset)} examples\")"
      ]
    },
    {
      "cell_type": "code",
      "execution_count": null,
      "metadata": {
        "colab": {
          "base_uri": "https://localhost:8080/"
        },
        "id": "rNL8tZRjEaVe",
        "outputId": "3c94e95e-7c33-409f-958f-334777127af0"
      },
      "outputs": [
        {
          "name": "stdout",
          "output_type": "stream",
          "text": [
            "Starting evaluation...\n"
          ]
        }
      ],
      "source": [
        "# Evaluate model\n",
        "print(\"Starting evaluation...\")\n",
        "results = []\n",
        "predictions = []\n",
        "ground_truth = []\n",
        "\n",
        "# FIXED HERE: was range(range(len(dataset))) before\n",
        "# not sure how this was working before and generated outputs\n",
        "for idx in range(len(dataset)):\n",
        "    example = dataset[idx]\n",
        "\n",
        "    # Format prompt\n",
        "    prompt = format_prompt(example['question'], example['passage'])\n",
        "\n",
        "    # Get model response\n",
        "    response = query_ollama(prompt, \"smollm2:135m\")\n",
        "    cleaned_response = clean_response(response)\n",
        "\n",
        "    # Store results\n",
        "    results.append({\n",
        "        'question': example['question'],\n",
        "        'passage': example['passage'],\n",
        "        'predicted': cleaned_response,\n",
        "        'actual': 'yes' if example['answer'] else 'no',\n",
        "        'correct': (cleaned_response == 'yes') == example['answer']\n",
        "    })\n",
        "\n",
        "    predictions.append(cleaned_response == 'yes')\n",
        "    ground_truth.append(example['answer'])"
      ]
    },
    {
      "cell_type": "code",
      "execution_count": null,
      "metadata": {
        "colab": {
          "base_uri": "https://localhost:8080/"
        },
        "id": "VYs8z-fdEaVe",
        "outputId": "8567071a-baf5-497e-cfac-cbc7adfa7926"
      },
      "outputs": [
        {
          "name": "stdout",
          "output_type": "stream",
          "text": [
            "\n",
            "Accuracy: 0.5722\n",
            "\n",
            "Classification Report:\n",
            "              precision    recall  f1-score   support\n",
            "\n",
            "       False       0.39      0.22      0.28      1237\n",
            "        True       0.62      0.79      0.70      2033\n",
            "\n",
            "    accuracy                           0.57      3270\n",
            "   macro avg       0.51      0.50      0.49      3270\n",
            "weighted avg       0.53      0.57      0.54      3270\n",
            "\n",
            "\n",
            "Results saved to llama3_boolq_results.csv\n"
          ]
        }
      ],
      "source": [
        "# Calculate metrics\n",
        "accuracy = accuracy_score(ground_truth, predictions)\n",
        "print(f\"\\nAccuracy: {accuracy:.4f}\")\n",
        "\n",
        "# Create detailed report\n",
        "results_df = pd.DataFrame(results)\n",
        "print(\"\\nClassification Report:\")\n",
        "print(classification_report(ground_truth, predictions))\n",
        "\n",
        "# Save results\n",
        "results_df.to_csv('llama3_boolq_results.csv', index=False)\n",
        "print(\"\\nResults saved to llama3_boolq_results.csv\")"
      ]
    },
    {
      "cell_type": "code",
      "execution_count": null,
      "metadata": {
        "colab": {
          "base_uri": "https://localhost:8080/"
        },
        "id": "c1aUw0NHEaVf",
        "outputId": "6042d13b-6012-4c49-c0b4-2c4b440c36be"
      },
      "outputs": [
        {
          "name": "stdout",
          "output_type": "stream",
          "text": [
            "\n",
            "Error Analysis:\n",
            "\n",
            "Total errors: 1399\n",
            "\n",
            "Example errors:\n",
            "\n",
            "Question: does ethanol take more energy make that produces\n",
            "Passage excerpt: All biomass goes through at least some of these steps: it needs to be grown, collected, dried, fermented, distilled, and burned. All of these steps require resources and an infrastructure. The total a...\n",
            "Predicted: yes\n",
            "Actual: no\n",
            "--------------------------------------------------------------------------------\n",
            "\n",
            "Question: is there a difference between hydroxyzine hcl and hydroxyzine pam\n",
            "Passage excerpt: Hydroxyzine preparations require a doctor's prescription. The drug is available in two formulations, the pamoate and the dihydrochloride or hydrochloride salts. Vistaril, Equipose, Masmoran, and Paxis...\n",
            "Predicted: no\n",
            "Actual: yes\n",
            "--------------------------------------------------------------------------------\n",
            "\n",
            "Question: is barq's root beer a pepsi product\n",
            "Passage excerpt: Barq's /ˈbɑːrks/ is an American soft drink. Its brand of root beer is notable for having caffeine. Barq's, created by Edward Barq and bottled since the turn of the 20th century, is owned by the Barq f...\n",
            "Predicted: yes\n",
            "Actual: no\n",
            "--------------------------------------------------------------------------------\n",
            "\n",
            "Question: is there a play off for third place in the world cup\n",
            "Passage excerpt: The knockout stage of the 2018 FIFA World Cup was the second and final stage of the competition, following the group stage. It began on 30 June with the round of 16 and ended on 15 July with the final...\n",
            "Predicted: no\n",
            "Actual: yes\n",
            "--------------------------------------------------------------------------------\n",
            "\n",
            "Question: is the liver part of the excretory system\n",
            "Passage excerpt: The liver detoxifies and breaks down chemicals, poisons and other toxins that enter the body. For example, the liver transforms ammonia (which is poisonous) into urea in fish, amphibians and mammals, ...\n",
            "Predicted: no\n",
            "Actual: yes\n",
            "--------------------------------------------------------------------------------\n"
          ]
        }
      ],
      "source": [
        "# Error Analysis\n",
        "print(\"\\nError Analysis:\")\n",
        "errors_df = results_df[~results_df['correct']]\n",
        "print(f\"\\nTotal errors: {len(errors_df)}\")\n",
        "\n",
        "# Show some example errors\n",
        "print(\"\\nExample errors:\")\n",
        "for _, row in errors_df.head(5).iterrows():\n",
        "    print(f\"\\nQuestion: {row['question']}\")\n",
        "    print(f\"Passage excerpt: {row['passage'][:200]}...\")\n",
        "    print(f\"Predicted: {row['predicted']}\")\n",
        "    print(f\"Actual: {row['actual']}\")\n",
        "    print(\"-\" * 80)"
      ]
    },
    {
      "cell_type": "code",
      "execution_count": null,
      "metadata": {
        "colab": {
          "base_uri": "https://localhost:8080/",
          "height": 564
        },
        "id": "3LLDQb1DEaVg",
        "outputId": "e1985cb8-61ac-48c1-e007-e26bfcb0ba84"
      },
      "outputs": [
        {
          "data": {
            "image/png": "[encoded data removed]",
            "text/plain": [
              "<Figure size 800x600 with 2 Axes>"
            ]
          },
          "metadata": {},
          "output_type": "display_data"
        }
      ],
      "source": [
        "# Plot confusion matrix\n",
        "from sklearn.metrics import confusion_matrix\n",
        "import matplotlib.pyplot as plt\n",
        "import seaborn as sns\n",
        "\n",
        "cm = confusion_matrix(ground_truth, predictions)\n",
        "plt.figure(figsize=(8, 6))\n",
        "sns.heatmap(cm, annot=True, fmt='d', cmap='Blues',\n",
        "            xticklabels=['No', 'Yes'],\n",
        "            yticklabels=['No', 'Yes'])\n",
        "plt.title('Confusion Matrix')\n",
        "plt.ylabel('True Label')\n",
        "plt.xlabel('Predicted Label')\n",
        "plt.show()"
      ]
    }
  ],
  "metadata": {
    "accelerator": "GPU",
    "colab": {
      "gpuType": "T4",
      "provenance": []
    },
    "kernelspec": {
      "display_name": "Python 3",
      "name": "python3"
    },
    "language_info": {
      "codemirror_mode": {
        "name": "ipython",
        "version": 3
      },
      "file_extension": ".py",
      "mimetype": "text/x-python",
      "name": "python",
      "nbconvert_exporter": "python",
      "pygments_lexer": "ipython3",
      "version": "3.13.1"
    }
  },
  "nbformat": 4,
  "nbformat_minor": 0
}
